{
 "cells": [
  {
   "cell_type": "code",
   "execution_count": 1,
   "metadata": {},
   "outputs": [],
   "source": [
    "import numpy as np\n",
    "import pandas as pd"
   ]
  },
  {
   "cell_type": "code",
   "execution_count": 7,
   "metadata": {},
   "outputs": [
    {
     "name": "stdout",
     "output_type": "stream",
     "text": [
      "   Global_active_power  Global_reactive_power  Voltage  Global_intensity  \\\n",
      "0                4.216                  0.418   234.84              18.4   \n",
      "1                5.360                  0.436   233.63              23.0   \n",
      "2                5.374                  0.498   233.29              23.0   \n",
      "3                5.388                  0.502   233.74              23.0   \n",
      "4                3.666                  0.528   235.68              15.8   \n",
      "\n",
      "   Sub_metering_1  Sub_metering_2  Sub_metering_3            Datetime  \n",
      "0             0.0             1.0            17.0 2006-12-16 17:24:00  \n",
      "1             0.0             1.0            16.0 2006-12-16 17:25:00  \n",
      "2             0.0             2.0            17.0 2006-12-16 17:26:00  \n",
      "3             0.0             1.0            17.0 2006-12-16 17:27:00  \n",
      "4             0.0             1.0            17.0 2006-12-16 17:28:00  \n"
     ]
    }
   ],
   "source": [
    "import pandas as pd\n",
    "\n",
    "# Define column data types\n",
    "dtype_spec = {\n",
    "    \"Global_active_power\": \"float64\",\n",
    "    \"Global_reactive_power\": \"float64\",\n",
    "    \"Voltage\": \"float64\",\n",
    "    \"Global_intensity\": \"float64\",\n",
    "    \"Sub_metering_1\": \"float64\",\n",
    "    \"Sub_metering_2\": \"float64\",\n",
    "    \"Sub_metering_3\": \"float64\",\n",
    "}\n",
    "\n",
    "# Load dataset without parsing dates\n",
    "df = pd.read_csv(\n",
    "    \"./data/raw.txt\",\n",
    "    sep=\";\",\n",
    "    dtype=dtype_spec,\n",
    "    na_values=[\"?\", \"nan\"],  # Handle missing values\n",
    "    low_memory=False  # Prevent mixed-type warnings\n",
    ")\n",
    "\n",
    "# Combine \"Date\" and \"Time\" into a single datetime column\n",
    "df[\"Datetime\"] = pd.to_datetime(df[\"Date\"] + \" \" + df[\"Time\"], dayfirst=True)\n",
    "\n",
    "# Drop old Date and Time columns\n",
    "df.drop(columns=[\"Date\", \"Time\"], inplace=True)\n",
    "\n",
    "# Interpolate missing values\n",
    "df.interpolate(method=\"linear\", inplace=True)\n",
    "\n",
    "# Display cleaned dataset\n",
    "print(df.head())"
   ]
  },
  {
   "cell_type": "code",
   "execution_count": 8,
   "metadata": {},
   "outputs": [
    {
     "data": {
      "text/html": [
       "<div>\n",
       "<style scoped>\n",
       "    .dataframe tbody tr th:only-of-type {\n",
       "        vertical-align: middle;\n",
       "    }\n",
       "\n",
       "    .dataframe tbody tr th {\n",
       "        vertical-align: top;\n",
       "    }\n",
       "\n",
       "    .dataframe thead th {\n",
       "        text-align: right;\n",
       "    }\n",
       "</style>\n",
       "<table border=\"1\" class=\"dataframe\">\n",
       "  <thead>\n",
       "    <tr style=\"text-align: right;\">\n",
       "      <th></th>\n",
       "      <th>Global_active_power</th>\n",
       "      <th>Global_reactive_power</th>\n",
       "      <th>Voltage</th>\n",
       "      <th>Global_intensity</th>\n",
       "      <th>Sub_metering_1</th>\n",
       "      <th>Sub_metering_2</th>\n",
       "      <th>Sub_metering_3</th>\n",
       "      <th>Datetime</th>\n",
       "    </tr>\n",
       "  </thead>\n",
       "  <tbody>\n",
       "    <tr>\n",
       "      <th>count</th>\n",
       "      <td>2.075259e+06</td>\n",
       "      <td>2.075259e+06</td>\n",
       "      <td>2.075259e+06</td>\n",
       "      <td>2.075259e+06</td>\n",
       "      <td>2.075259e+06</td>\n",
       "      <td>2.075259e+06</td>\n",
       "      <td>2.075259e+06</td>\n",
       "      <td>2075259</td>\n",
       "    </tr>\n",
       "    <tr>\n",
       "      <th>mean</th>\n",
       "      <td>1.090280e+00</td>\n",
       "      <td>1.236492e-01</td>\n",
       "      <td>2.408328e+02</td>\n",
       "      <td>4.621481e+00</td>\n",
       "      <td>1.109485e+00</td>\n",
       "      <td>1.289229e+00</td>\n",
       "      <td>6.442386e+00</td>\n",
       "      <td>2008-12-06 07:12:59.999994112</td>\n",
       "    </tr>\n",
       "    <tr>\n",
       "      <th>min</th>\n",
       "      <td>7.600000e-02</td>\n",
       "      <td>0.000000e+00</td>\n",
       "      <td>2.232000e+02</td>\n",
       "      <td>2.000000e-01</td>\n",
       "      <td>0.000000e+00</td>\n",
       "      <td>0.000000e+00</td>\n",
       "      <td>0.000000e+00</td>\n",
       "      <td>2006-12-16 17:24:00</td>\n",
       "    </tr>\n",
       "    <tr>\n",
       "      <th>25%</th>\n",
       "      <td>3.100000e-01</td>\n",
       "      <td>4.800000e-02</td>\n",
       "      <td>2.389900e+02</td>\n",
       "      <td>1.400000e+00</td>\n",
       "      <td>0.000000e+00</td>\n",
       "      <td>0.000000e+00</td>\n",
       "      <td>0.000000e+00</td>\n",
       "      <td>2007-12-12 00:18:30</td>\n",
       "    </tr>\n",
       "    <tr>\n",
       "      <th>50%</th>\n",
       "      <td>6.140000e-01</td>\n",
       "      <td>1.000000e-01</td>\n",
       "      <td>2.410000e+02</td>\n",
       "      <td>2.751585e+00</td>\n",
       "      <td>0.000000e+00</td>\n",
       "      <td>0.000000e+00</td>\n",
       "      <td>1.000000e+00</td>\n",
       "      <td>2008-12-06 07:13:00</td>\n",
       "    </tr>\n",
       "    <tr>\n",
       "      <th>75%</th>\n",
       "      <td>1.528000e+00</td>\n",
       "      <td>1.940000e-01</td>\n",
       "      <td>2.428700e+02</td>\n",
       "      <td>6.400000e+00</td>\n",
       "      <td>0.000000e+00</td>\n",
       "      <td>1.000000e+00</td>\n",
       "      <td>1.700000e+01</td>\n",
       "      <td>2009-12-01 14:07:30</td>\n",
       "    </tr>\n",
       "    <tr>\n",
       "      <th>max</th>\n",
       "      <td>1.112200e+01</td>\n",
       "      <td>1.390000e+00</td>\n",
       "      <td>2.541500e+02</td>\n",
       "      <td>4.840000e+01</td>\n",
       "      <td>8.800000e+01</td>\n",
       "      <td>8.000000e+01</td>\n",
       "      <td>3.100000e+01</td>\n",
       "      <td>2010-11-26 21:02:00</td>\n",
       "    </tr>\n",
       "    <tr>\n",
       "      <th>std</th>\n",
       "      <td>1.052628e+00</td>\n",
       "      <td>1.124194e-01</td>\n",
       "      <td>3.237763e+00</td>\n",
       "      <td>4.424361e+00</td>\n",
       "      <td>6.115843e+00</td>\n",
       "      <td>5.786613e+00</td>\n",
       "      <td>8.415860e+00</td>\n",
       "      <td>NaN</td>\n",
       "    </tr>\n",
       "  </tbody>\n",
       "</table>\n",
       "</div>"
      ],
      "text/plain": [
       "       Global_active_power  Global_reactive_power       Voltage  \\\n",
       "count         2.075259e+06           2.075259e+06  2.075259e+06   \n",
       "mean          1.090280e+00           1.236492e-01  2.408328e+02   \n",
       "min           7.600000e-02           0.000000e+00  2.232000e+02   \n",
       "25%           3.100000e-01           4.800000e-02  2.389900e+02   \n",
       "50%           6.140000e-01           1.000000e-01  2.410000e+02   \n",
       "75%           1.528000e+00           1.940000e-01  2.428700e+02   \n",
       "max           1.112200e+01           1.390000e+00  2.541500e+02   \n",
       "std           1.052628e+00           1.124194e-01  3.237763e+00   \n",
       "\n",
       "       Global_intensity  Sub_metering_1  Sub_metering_2  Sub_metering_3  \\\n",
       "count      2.075259e+06    2.075259e+06    2.075259e+06    2.075259e+06   \n",
       "mean       4.621481e+00    1.109485e+00    1.289229e+00    6.442386e+00   \n",
       "min        2.000000e-01    0.000000e+00    0.000000e+00    0.000000e+00   \n",
       "25%        1.400000e+00    0.000000e+00    0.000000e+00    0.000000e+00   \n",
       "50%        2.751585e+00    0.000000e+00    0.000000e+00    1.000000e+00   \n",
       "75%        6.400000e+00    0.000000e+00    1.000000e+00    1.700000e+01   \n",
       "max        4.840000e+01    8.800000e+01    8.000000e+01    3.100000e+01   \n",
       "std        4.424361e+00    6.115843e+00    5.786613e+00    8.415860e+00   \n",
       "\n",
       "                            Datetime  \n",
       "count                        2075259  \n",
       "mean   2008-12-06 07:12:59.999994112  \n",
       "min              2006-12-16 17:24:00  \n",
       "25%              2007-12-12 00:18:30  \n",
       "50%              2008-12-06 07:13:00  \n",
       "75%              2009-12-01 14:07:30  \n",
       "max              2010-11-26 21:02:00  \n",
       "std                              NaN  "
      ]
     },
     "execution_count": 8,
     "metadata": {},
     "output_type": "execute_result"
    }
   ],
   "source": [
    "df.describe()"
   ]
  },
  {
   "cell_type": "code",
   "execution_count": 9,
   "metadata": {},
   "outputs": [
    {
     "data": {
      "text/plain": [
       "Global_active_power      2075259\n",
       "Global_reactive_power    2075259\n",
       "Voltage                  2075259\n",
       "Global_intensity         2075259\n",
       "Sub_metering_1           2075259\n",
       "Sub_metering_2           2075259\n",
       "Sub_metering_3           2075259\n",
       "Datetime                 2075259\n",
       "dtype: int64"
      ]
     },
     "execution_count": 9,
     "metadata": {},
     "output_type": "execute_result"
    }
   ],
   "source": [
    "df.count()"
   ]
  },
  {
   "cell_type": "markdown",
   "metadata": {},
   "source": [
    "The test codes will be generated on 2.5% of the dataset; later, on huge compute machine full dataset will be used to save compute and time."
   ]
  },
  {
   "cell_type": "code",
   "execution_count": 10,
   "metadata": {},
   "outputs": [
    {
     "name": "stdout",
     "output_type": "stream",
     "text": [
      "Saved successfully!\n"
     ]
    }
   ],
   "source": [
    "# Select the first 2.5% of the data\n",
    "subset_df = df.iloc[:int(len(df) * 0.025)]\n",
    "\n",
    "# Save to a new CSV file\n",
    "df.to_csv(\"./data/dataset.csv\", index=False)\n",
    "subset_df.to_csv(\"./data/subset_dataset.csv\", index=False)\n",
    "\n",
    "print(\"Saved successfully!\")"
   ]
  }
 ],
 "metadata": {
  "kernelspec": {
   "display_name": "VENV",
   "language": "python",
   "name": "python3"
  },
  "language_info": {
   "codemirror_mode": {
    "name": "ipython",
    "version": 3
   },
   "file_extension": ".py",
   "mimetype": "text/x-python",
   "name": "python",
   "nbconvert_exporter": "python",
   "pygments_lexer": "ipython3",
   "version": "3.12.8"
  }
 },
 "nbformat": 4,
 "nbformat_minor": 2
}
