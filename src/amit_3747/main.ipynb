{
 "cells": [
  {
   "cell_type": "code",
   "execution_count": 33,
   "metadata": {},
   "outputs": [],
   "source": [
    "import numpy as np\n",
    "import pandas as pd\n",
    "import matplotlib.pyplot as plt\n",
    "#from statsmodels.tsa.seasonal import seasonal_decompose\n",
    "from sklearn.metrics import mean_squared_error\n",
    "from sklearn.preprocessing import MinMaxScaler\n",
    "import torch\n",
    "import torch.nn as nn\n",
    "import os\n",
    "from sklearn.preprocessing import StandardScaler"
   ]
  },
  {
   "cell_type": "code",
   "execution_count": 34,
   "metadata": {},
   "outputs": [
    {
     "name": "stdout",
     "output_type": "stream",
     "text": [
      "Data from UNH_2006-01-01_to_2018-01-01.csv:\n",
      "         Date   Open   High    Low  Close   Volume Name\n",
      "0  2006-01-03  62.60  62.60  60.60  61.73  8070600  UNH\n",
      "1  2006-01-04  61.89  62.20  61.60  61.88  5587100  UNH\n",
      "2  2006-01-05  62.23  62.88  61.49  61.69  5626000  UNH\n",
      "3  2006-01-06  62.75  62.93  62.03  62.90  5577800  UNH\n",
      "4  2006-01-09  62.90  62.90  61.26  61.40  8831000  UNH\n",
      "Data from GE_2006-01-01_to_2018-01-01.csv:\n",
      "         Date   Open   High    Low  Close    Volume Name\n",
      "0  2006-01-03  35.10  35.40  34.80  35.37  33221400   GE\n",
      "1  2006-01-04  35.35  35.40  35.10  35.32  24017300   GE\n",
      "2  2006-01-05  35.27  35.35  35.10  35.23  18860400   GE\n",
      "3  2006-01-06  35.38  35.53  35.19  35.47  22085300   GE\n",
      "4  2006-01-09  35.40  35.43  35.24  35.38  20716900   GE\n",
      "Data from TRV_2006-01-01_to_2018-01-01.csv:\n",
      "         Date   Open   High    Low  Close   Volume Name\n",
      "0  2006-01-03  44.85  46.00  44.52  45.99  3843800  TRV\n",
      "1  2006-01-04  45.99  46.61  45.85  46.50  2285900  TRV\n",
      "2  2006-01-05  46.79  46.98  46.58  46.95  3069300  TRV\n",
      "3  2006-01-06  47.00  47.63  46.99  47.21  2641500  TRV\n",
      "4  2006-01-09  46.71  47.35  46.65  47.23  2201500  TRV\n",
      "Data from KO_2006-01-01_to_2018-01-01.csv:\n",
      "         Date   Open   High    Low  Close    Volume Name\n",
      "0  2006-01-03  20.40  20.50  20.18  20.45  13640800   KO\n",
      "1  2006-01-04  20.50  20.54  20.33  20.41  19993200   KO\n",
      "2  2006-01-05  20.36  20.56  20.29  20.51  16613400   KO\n",
      "3  2006-01-06  20.53  20.78  20.43  20.70  17122800   KO\n",
      "4  2006-01-09  20.74  20.84  20.62  20.80  13819800   KO\n",
      "Data from AXP_2006-01-01_to_2018-01-01.csv:\n",
      "         Date   Open   High    Low  Close   Volume Name\n",
      "0  2006-01-03  51.70  52.58  51.05  52.58  7825700  AXP\n",
      "1  2006-01-04  52.44  52.57  51.81  51.95  5729400  AXP\n",
      "2  2006-01-05  51.90  52.51  51.90  52.50  3926000  AXP\n",
      "3  2006-01-06  52.64  52.87  52.28  52.68  4137800  AXP\n",
      "4  2006-01-09  52.82  53.99  52.82  53.99  6093300  AXP\n",
      "Data from GOOGL_2006-01-01_to_2018-01-01.csv:\n",
      "         Date    Open    High     Low   Close    Volume   Name\n",
      "0  2006-01-03  211.47  218.05  209.32  217.83  13137450  GOOGL\n",
      "1  2006-01-04  222.17  224.70  220.09  222.84  15292353  GOOGL\n",
      "2  2006-01-05  223.22  226.00  220.97  225.85  10815661  GOOGL\n",
      "3  2006-01-06  228.66  235.49  226.85  233.06  17759521  GOOGL\n",
      "4  2006-01-09  233.44  236.94  230.70  233.68  12795837  GOOGL\n",
      "Data from IBM_2006-01-01_to_2018-01-01.csv:\n",
      "         Date   Open   High    Low  Close    Volume Name\n",
      "0  2006-01-03  82.45  82.55  80.81  82.06  11715200  IBM\n",
      "1  2006-01-04  82.20  82.50  81.33  81.95   9840600  IBM\n",
      "2  2006-01-05  81.40  82.90  81.00  82.50   7213500  IBM\n",
      "3  2006-01-06  83.95  85.03  83.41  84.95   8197400  IBM\n",
      "4  2006-01-09  84.10  84.25  83.38  83.73   6858200  IBM\n",
      "Data from UTX_2006-01-01_to_2018-01-01.csv:\n",
      "         Date   Open   High    Low  Close   Volume Name\n",
      "0  2006-01-03  56.45  56.66  55.46  56.53  3716500  UTX\n",
      "1  2006-01-04  56.80  56.80  55.84  56.19  3114500  UTX\n",
      "2  2006-01-05  56.30  56.49  55.63  55.98  3118900  UTX\n",
      "3  2006-01-06  56.45  56.67  56.10  56.16  2874300  UTX\n",
      "4  2006-01-09  56.37  56.90  56.16  56.80  2467200  UTX\n",
      "Data from JNJ_2006-01-01_to_2018-01-01.csv:\n",
      "         Date   Open   High    Low  Close    Volume Name\n",
      "0  2006-01-03  61.07  61.85  61.05  61.63  10703200  JNJ\n",
      "1  2006-01-04  61.93  62.64  61.76  62.58   9068100  JNJ\n",
      "2  2006-01-05  62.57  62.95  62.10  62.32   9852600  JNJ\n",
      "3  2006-01-06  62.36  62.74  62.14  62.60   5919300  JNJ\n",
      "4  2006-01-09  62.52  63.01  62.43  62.99   7103700  JNJ\n",
      "Data from PG_2006-01-01_to_2018-01-01.csv:\n",
      "         Date   Open   High    Low  Close   Volume Name\n",
      "0  2006-01-03  58.30  58.86  57.69  58.78  9741600   PG\n",
      "1  2006-01-04  58.80  59.12  58.56  58.89  6746400   PG\n",
      "2  2006-01-05  58.70  59.07  58.61  58.70  8936100   PG\n",
      "3  2006-01-06  58.74  58.80  58.48  58.64  8826300   PG\n",
      "4  2006-01-09  58.45  59.09  58.45  59.08  7715700   PG\n",
      "Data from MCD_2006-01-01_to_2018-01-01.csv:\n",
      "         Date   Open   High    Low  Close   Volume Name\n",
      "0  2006-01-03  34.29  34.29  33.20  33.52  9250100  MCD\n",
      "1  2006-01-04  33.43  33.85  33.42  33.82  5990300  MCD\n",
      "2  2006-01-05  33.82  34.20  33.73  33.86  6245200  MCD\n",
      "3  2006-01-06  34.23  34.30  33.81  34.06  5877100  MCD\n",
      "4  2006-01-09  34.00  34.74  33.99  34.71  4659900  MCD\n",
      "Data from all_stocks_2006-01-01_to_2018-01-01.csv:\n",
      "         Date   Open   High    Low  Close   Volume Name\n",
      "0  2006-01-03  77.76  79.35  77.24  79.11  3117200  MMM\n",
      "1  2006-01-04  79.49  79.49  78.25  78.71  2558000  MMM\n",
      "2  2006-01-05  78.41  78.65  77.56  77.99  2529500  MMM\n",
      "3  2006-01-06  78.64  78.90  77.64  78.63  2479500  MMM\n",
      "4  2006-01-09  78.50  79.83  78.46  79.02  1845600  MMM\n",
      "Data from PFE_2006-01-01_to_2018-01-01.csv:\n",
      "         Date   Open   High    Low  Close    Volume Name\n",
      "0  2006-01-03  23.65  23.92  23.60  23.78  38052400  PFE\n",
      "1  2006-01-04  23.97  24.57  23.95  24.55  43972000  PFE\n",
      "2  2006-01-05  24.55  24.75  24.44  24.58  42601900  PFE\n",
      "3  2006-01-06  24.70  24.95  24.63  24.85  28523900  PFE\n",
      "4  2006-01-09  24.98  24.99  24.52  24.85  28080300  PFE\n",
      "Data from XOM_2006-01-01_to_2018-01-01.csv:\n",
      "         Date   Open   High    Low  Close    Volume Name\n",
      "0  2006-01-03  56.42  58.47  56.42  58.47  23873200  XOM\n",
      "1  2006-01-04  58.60  58.84  58.06  58.57  19086600  XOM\n",
      "2  2006-01-05  58.57  58.82  57.87  58.28  17158600  XOM\n",
      "3  2006-01-06  58.76  59.56  58.76  59.43  17370000  XOM\n",
      "4  2006-01-09  59.80  59.87  59.27  59.40  17339500  XOM\n",
      "Data from all_stocks_2017-01-01_to_2018-01-01.csv:\n",
      "         Date    Open    High     Low   Close   Volume Name\n",
      "0  2017-01-03  178.83  180.00  177.22  178.05  2510055  MMM\n",
      "1  2017-01-04  178.03  178.90  177.61  178.32  1541985  MMM\n",
      "2  2017-01-05  178.26  179.14  176.89  177.71  1447848  MMM\n",
      "3  2017-01-06  177.29  178.60  175.80  178.23  1625049  MMM\n",
      "4  2017-01-09  178.37  178.38  177.20  177.27  1622625  MMM\n",
      "Data from AMZN_2006-01-01_to_2018-01-01.csv:\n",
      "         Date   Open   High    Low  Close   Volume  Name\n",
      "0  2006-01-03  47.47  47.85  46.25  47.58  7582127  AMZN\n",
      "1  2006-01-04  47.48  47.73  46.69  47.25  7440914  AMZN\n",
      "2  2006-01-05  47.16  48.20  47.11  47.65  5417258  AMZN\n",
      "3  2006-01-06  47.97  48.58  47.32  47.87  6154285  AMZN\n",
      "4  2006-01-09  46.55  47.10  46.40  47.08  8945056  AMZN\n",
      "Data from CVX_2006-01-01_to_2018-01-01.csv:\n",
      "         Date   Open   High    Low  Close    Volume Name\n",
      "0  2006-01-03  57.25  59.10  57.06  59.08  13296500  CVX\n",
      "1  2006-01-04  59.08  59.08  58.43  58.91   8838800  CVX\n",
      "2  2006-01-05  58.68  58.96  57.85  58.19   8634800  CVX\n",
      "3  2006-01-06  58.95  59.57  58.59  59.25   9609000  CVX\n",
      "4  2006-01-09  59.49  59.58  58.55  58.95   6442300  CVX\n",
      "Data from CSCO_2006-01-01_to_2018-01-01.csv:\n",
      "         Date   Open   High    Low  Close     Volume  Name\n",
      "0  2006-01-03  17.21  17.49  17.18  17.45   55432166  CSCO\n",
      "1  2006-01-04  17.48  17.93  17.46  17.85   80409776  CSCO\n",
      "2  2006-01-05  17.94  18.48  17.93  18.35  118588943  CSCO\n",
      "3  2006-01-06  18.51  18.88  18.47  18.77  122450979  CSCO\n",
      "4  2006-01-09  18.97  19.11  18.92  19.06   78604868  CSCO\n",
      "Data from WMT_2006-01-01_to_2018-01-01.csv:\n",
      "         Date   Open   High    Low  Close    Volume Name\n",
      "0  2006-01-03  46.36  46.66  45.57  46.23  23413900  WMT\n",
      "1  2006-01-04  46.24  46.50  46.10  46.32  14090700  WMT\n",
      "2  2006-01-05  46.00  46.40  45.29  45.69  20759200  WMT\n",
      "3  2006-01-06  45.69  45.88  45.10  45.88  21135000  WMT\n",
      "4  2006-01-09  45.89  46.15  45.56  45.71  14890700  WMT\n",
      "Data from CAT_2006-01-01_to_2018-01-01.csv:\n",
      "         Date   Open   High    Low  Close   Volume Name\n",
      "0  2006-01-03  57.87  58.11  57.05  57.80  3697500  CAT\n",
      "1  2006-01-04  57.95  59.43  57.55  59.27  4577200  CAT\n",
      "2  2006-01-05  59.02  59.86  59.00  59.27  4590700  CAT\n",
      "3  2006-01-06  59.47  60.76  59.38  60.45  5692300  CAT\n",
      "4  2006-01-09  60.45  61.68  60.45  61.55  4409300  CAT\n",
      "Data from HD_2006-01-01_to_2018-01-01.csv:\n",
      "         Date   Open   High    Low  Close   Volume Name\n",
      "0  2006-01-03  40.39  41.45  39.77  41.24  8960100   HD\n",
      "1  2006-01-04  40.94  41.04  40.23  40.48  9452300   HD\n",
      "2  2006-01-05  40.10  40.36  39.81  40.08  9492700   HD\n",
      "3  2006-01-06  40.25  40.51  40.09  40.38  9170200   HD\n",
      "4  2006-01-09  40.80  41.10  40.25  40.82  8256300   HD\n",
      "Data from DIS_2006-01-01_to_2018-01-01.csv:\n",
      "         Date   Open   High    Low  Close    Volume Name\n",
      "0  2006-01-03  24.08  24.48  24.00  24.40   9657400  DIS\n",
      "1  2006-01-04  24.50  24.69  23.77  23.99  13165300  DIS\n",
      "2  2006-01-05  24.13  24.69  24.10  24.41   8698200  DIS\n",
      "3  2006-01-06  24.65  24.79  24.44  24.74   6412800  DIS\n",
      "4  2006-01-09  24.85  25.03  24.72  25.00   6590300  DIS\n",
      "Data from VZ_2006-01-01_to_2018-01-01.csv:\n",
      "         Date   Open   High    Low  Close    Volume Name\n",
      "0  2006-01-03  30.20  30.47  30.04  30.38  12903800   VZ\n",
      "1  2006-01-04  30.57  31.29  30.45  31.27  31004500   VZ\n",
      "2  2006-01-05  31.28  31.91  31.22  31.63  20664000   VZ\n",
      "3  2006-01-06  31.60  31.60  31.16  31.35  57704300   VZ\n",
      "4  2006-01-09  31.39  31.52  31.21  31.48  17600000   VZ\n",
      "Data from BA_2006-01-01_to_2018-01-01.csv:\n",
      "         Date   Open   High    Low  Close   Volume Name\n",
      "0  2006-01-03  70.40  70.60  69.33  70.44  4943100   BA\n",
      "1  2006-01-04  70.08  71.27  69.86  71.17  3165000   BA\n",
      "2  2006-01-05  70.55  70.55  69.58  70.33  4598300   BA\n",
      "3  2006-01-06  70.34  70.50  69.05  69.35  4820200   BA\n",
      "4  2006-01-09  69.28  69.40  68.66  68.77  4567700   BA\n",
      "Data from MMM_2006-01-01_to_2018-01-01.csv:\n",
      "         Date   Open   High    Low  Close   Volume Name\n",
      "0  2006-01-03  77.76  79.35  77.24  79.11  3117200  MMM\n",
      "1  2006-01-04  79.49  79.49  78.25  78.71  2558000  MMM\n",
      "2  2006-01-05  78.41  78.65  77.56  77.99  2529500  MMM\n",
      "3  2006-01-06  78.64  78.90  77.64  78.63  2479500  MMM\n",
      "4  2006-01-09  78.50  79.83  78.46  79.02  1845600  MMM\n",
      "Data from AAPL_2006-01-01_to_2018-01-01.csv:\n",
      "         Date   Open   High    Low  Close     Volume  Name\n",
      "0  2006-01-03  10.34  10.68  10.32  10.68  201853036  AAPL\n",
      "1  2006-01-04  10.73  10.85  10.64  10.71  155225609  AAPL\n",
      "2  2006-01-05  10.69  10.70  10.54  10.63  112396081  AAPL\n",
      "3  2006-01-06  10.75  10.96  10.65  10.90  176139334  AAPL\n",
      "4  2006-01-09  10.96  11.03  10.82  10.86  168861224  AAPL\n",
      "Data from AABA_2006-01-01_to_2018-01-01.csv:\n",
      "         Date   Open   High    Low  Close    Volume  Name\n",
      "0  2006-01-03  39.69  41.22  38.79  40.91  24232729  AABA\n",
      "1  2006-01-04  41.22  41.90  40.77  40.97  20553479  AABA\n",
      "2  2006-01-05  40.93  41.73  40.85  41.53  12829610  AABA\n",
      "3  2006-01-06  42.88  43.57  42.80  43.21  29422828  AABA\n",
      "4  2006-01-09  43.10  43.66  42.82  43.42  16268338  AABA\n",
      "Data from INTC_2006-01-01_to_2018-01-01.csv:\n",
      "         Date   Open   High    Low  Close    Volume  Name\n",
      "0  2006-01-03  25.19  25.64  24.90  25.57  56409085  INTC\n",
      "1  2006-01-04  25.60  25.94  25.59  25.91  46189650  INTC\n",
      "2  2006-01-05  25.93  26.47  25.91  26.27  54893195  INTC\n",
      "3  2006-01-06  26.48  26.63  26.21  26.31  45703307  INTC\n",
      "4  2006-01-09  26.39  26.51  26.09  26.47  39461729  INTC\n",
      "Data from GS_2006-01-01_to_2018-01-01.csv:\n",
      "         Date    Open    High     Low   Close   Volume Name\n",
      "0  2006-01-03  126.70  129.44  124.23  128.87  6188700   GS\n",
      "1  2006-01-04  127.35  128.91  126.38  127.09  4862000   GS\n",
      "2  2006-01-05  126.00  127.32  125.61  127.04  3717600   GS\n",
      "3  2006-01-06  127.29  129.25  127.29  128.84  4319600   GS\n",
      "4  2006-01-09  128.50  130.62  128.00  130.39  4723500   GS\n",
      "Data from MSFT_2006-01-01_to_2018-01-01.csv:\n",
      "         Date   Open   High    Low  Close     Volume  Name\n",
      "0  2006-01-03  26.25  27.00  26.10  26.84   79974418  MSFT\n",
      "1  2006-01-04  26.77  27.08  26.77  26.97   57975661  MSFT\n",
      "2  2006-01-05  26.96  27.13  26.91  26.99   48247610  MSFT\n",
      "3  2006-01-06  26.89  27.00  26.49  26.91  100969092  MSFT\n",
      "4  2006-01-09  26.93  27.07  26.76  26.86   55627836  MSFT\n",
      "Data from NKE_2006-01-01_to_2018-01-01.csv:\n",
      "         Date   Open   High    Low  Close    Volume Name\n",
      "0  2006-01-03  10.85  10.92  10.67  10.74  18468800  NKE\n",
      "1  2006-01-04  10.71  10.80  10.67  10.69  15832000  NKE\n",
      "2  2006-01-05  10.69  10.83  10.69  10.76   9256000  NKE\n",
      "3  2006-01-06  10.79  10.83  10.71  10.72   7573600  NKE\n",
      "4  2006-01-09  10.72  10.98  10.72  10.88  10441600  NKE\n",
      "Data from MRK_2006-01-01_to_2018-01-01.csv:\n",
      "         Date   Open   High    Low  Close    Volume Name\n",
      "0  2006-01-03  32.52  32.87  31.81  32.75  11430600  MRK\n",
      "1  2006-01-04  32.75  33.20  32.75  33.13  12530200  MRK\n",
      "2  2006-01-05  32.92  33.39  32.50  33.18  15349900  MRK\n",
      "3  2006-01-06  33.09  33.36  32.87  33.12   9302700  MRK\n",
      "4  2006-01-09  33.22  33.66  32.75  33.66  14958400  MRK\n",
      "Data from JPM_2006-01-01_to_2018-01-01.csv:\n",
      "         Date   Open   High    Low  Close    Volume Name\n",
      "0  2006-01-03  39.83  40.36  39.30  40.19  12839400  JPM\n",
      "1  2006-01-04  39.78  40.14  39.42  39.62  13491800  JPM\n",
      "2  2006-01-05  39.61  39.81  39.50  39.74   8109400  JPM\n",
      "3  2006-01-06  39.92  40.24  39.55  40.02   7966900  JPM\n",
      "4  2006-01-09  39.88  40.72  39.88  40.67  16575200  JPM\n"
     ]
    }
   ],
   "source": [
    "datasets_dir = os.path.join(os.getcwd(), 'datasets')\n",
    "files = os.listdir(datasets_dir)\n",
    "for file in files:\n",
    "    if file.endswith('.csv'):  \n",
    "        file_path = os.path.join(datasets_dir, file)\n",
    "        df = pd.read_csv(file_path)\n",
    "        print(f\"Data from {file}:\")\n",
    "        print(df.head()) "
   ]
  },
  {
   "cell_type": "code",
   "execution_count": 35,
   "metadata": {},
   "outputs": [
    {
     "name": "stdout",
     "output_type": "stream",
     "text": [
      "Data from JPM_2006-01-01_to_2018-01-01.csv:\n",
      "         Date   Open   High    Low  Close    Volume Name\n",
      "0  2006-01-03  39.83  40.36  39.30  40.19  12839400  JPM\n",
      "1  2006-01-04  39.78  40.14  39.42  39.62  13491800  JPM\n",
      "2  2006-01-05  39.61  39.81  39.50  39.74   8109400  JPM\n",
      "3  2006-01-06  39.92  40.24  39.55  40.02   7966900  JPM\n",
      "4  2006-01-09  39.88  40.72  39.88  40.67  16575200  JPM\n"
     ]
    }
   ],
   "source": [
    "datasets_dir = os.path.join(os.getcwd(), 'datasets')\n",
    "\n",
    "file_name = 'JPM_2006-01-01_to_2018-01-01.csv'  # Replace with your file name\n",
    "\n",
    "# Construct the full path to the file\n",
    "file_path = os.path.join(datasets_dir, file_name)\n",
    "\n",
    "# Read the file using pandas\n",
    "df = pd.read_csv(file_path)\n",
    "\n",
    "# Display the data\n",
    "print(f\"Data from {file_name}:\")\n",
    "print(df.head())  # Print the first few rows of the DataFrame"
   ]
  },
  {
   "cell_type": "code",
   "execution_count": 36,
   "metadata": {},
   "outputs": [
    {
     "data": {
      "text/plain": [
       "0        40.36\n",
       "1        40.14\n",
       "2        39.81\n",
       "3        40.24\n",
       "4        40.72\n",
       "         ...  \n",
       "3015    108.46\n",
       "3016    107.99\n",
       "3017    107.29\n",
       "3018    107.84\n",
       "3019    108.28\n",
       "Name: High, Length: 3020, dtype: float64"
      ]
     },
     "execution_count": 36,
     "metadata": {},
     "output_type": "execute_result"
    }
   ],
   "source": [
    "df['High']"
   ]
  },
  {
   "cell_type": "code",
   "execution_count": 37,
   "metadata": {},
   "outputs": [
    {
     "data": {
      "image/png": "[encoded data removed]",
      "text/plain": [
       "<Figure size 1600x400 with 1 Axes>"
      ]
     },
     "metadata": {},
     "output_type": "display_data"
    }
   ],
   "source": [
    "df['High'].loc[:'2006'].plot(figsize=(16,4),)\n",
    "df['High'].loc['2006':].plot(figsize=(16,4),)\n",
    "plt.legend(['Training 2006', 'Test 2006'])\n",
    "plt.title('jpm stock price')\n",
    "plt.show()"
   ]
  },
  {
   "cell_type": "code",
   "execution_count": 38,
   "metadata": {},
   "outputs": [],
   "source": [
    "df['Date'] = pd.to_datetime(df['Date'])\n",
    "df.set_index('Date', inplace=True)"
   ]
  },
  {
   "cell_type": "code",
   "execution_count": 39,
   "metadata": {},
   "outputs": [],
   "source": [
    "train_data= df[:'2006']['High'].values\n",
    "test_data= df['2006':]['High'].values"
   ]
  },
  {
   "cell_type": "code",
   "execution_count": 40,
   "metadata": {},
   "outputs": [
    {
     "data": {
      "text/plain": [
       "(251,)"
      ]
     },
     "execution_count": 40,
     "metadata": {},
     "output_type": "execute_result"
    }
   ],
   "source": [
    "train_data.shape"
   ]
  },
  {
   "cell_type": "code",
   "execution_count": 41,
   "metadata": {},
   "outputs": [],
   "source": [
    "size = 60"
   ]
  },
  {
   "cell_type": "code",
   "execution_count": 42,
   "metadata": {},
   "outputs": [],
   "source": [
    "def split(dataset , size):\n",
    "    X=[]\n",
    "    y=[]\n",
    "\n",
    "    for i in range(len(dataset)-size):\n",
    "        X.append(dataset[i:i + size])\n",
    "        y.append(dataset[i+ size])\n",
    "    return X,y"
   ]
  },
  {
   "cell_type": "code",
   "execution_count": 43,
   "metadata": {},
   "outputs": [],
   "source": [
    "X_train, y_train= split(train_data, 60)\n",
    "X_test, y_test= split(test_data, 60)"
   ]
  },
  {
   "cell_type": "code",
   "execution_count": 44,
   "metadata": {},
   "outputs": [
    {
     "data": {
      "text/plain": [
       "array([40.36, 40.14, 39.81, 40.24, 40.72, 40.75, 40.87, 40.42, 40.03,\n",
       "       39.82, 39.71, 39.47, 38.82, 38.7 , 38.53, 38.68, 39.81, 40.04,\n",
       "       39.97, 40.19, 40.22, 40.16, 40.1 , 39.6 , 39.6 , 39.62, 40.03,\n",
       "       39.98, 40.31, 40.33, 40.5 , 40.82, 40.82, 40.95, 41.55, 41.57,\n",
       "       41.83, 41.95, 41.6 , 41.94, 41.84, 42.09, 41.81, 41.66, 41.74,\n",
       "       41.74, 41.4 , 41.48, 41.5 , 41.34, 41.53, 41.5 , 41.55, 41.71,\n",
       "       42.2 , 42.2 , 42.43, 42.2 , 42.21, 42.08])"
      ]
     },
     "execution_count": 44,
     "metadata": {},
     "output_type": "execute_result"
    }
   ],
   "source": [
    "X_train[0]"
   ]
  },
  {
   "cell_type": "code",
   "execution_count": 45,
   "metadata": {},
   "outputs": [],
   "source": [
    "scalerX = StandardScaler()\n",
    "scalery= StandardScaler()\n",
    "\n",
    "X_train = scalerX.fit_transform(X_train)\n",
    "X_test= scalerX.transform(X_test)\n",
    "\n",
    "y_train= scalery.fit_transform(np.array(y_train).reshape(-1,1)).flatten()\n",
    "y_test= scalery.transform(np.array(y_test).reshape(-1,1)).flatten()"
   ]
  },
  {
   "cell_type": "code",
   "execution_count": 46,
   "metadata": {},
   "outputs": [
    {
     "data": {
      "text/plain": [
       "array([-1.41032435, -1.45306349, -1.23081998, -1.23081998, -1.14534171])"
      ]
     },
     "execution_count": 46,
     "metadata": {},
     "output_type": "execute_result"
    }
   ],
   "source": [
    "X_train[0]\n",
    "y_test[:5]"
   ]
  },
  {
   "cell_type": "code",
   "execution_count": 47,
   "metadata": {},
   "outputs": [],
   "source": [
    "n_features = 1\n",
    "X_train = X_train.reshape(X_train.shape[0],X_train.shape[1],n_features)\n",
    "X_test = X_test.reshape(X_test.shape[0],X_test.shape[1],n_features)"
   ]
  },
  {
   "cell_type": "code",
   "execution_count": 48,
   "metadata": {},
   "outputs": [
    {
     "ename": "RuntimeError",
     "evalue": "Failed to run torchinfo. See above stack traces for more details. Executed layers up to: [LSTM: 1, LSTM: 1]",
     "output_type": "error",
     "traceback": [
      "\u001b[0;31m---------------------------------------------------------------------------\u001b[0m",
      "\u001b[0;31mIndexError\u001b[0m                                Traceback (most recent call last)",
      "File \u001b[0;32m~/code/python/minorproject/VENV/lib/python3.12/site-packages/torchinfo/torchinfo.py:295\u001b[0m, in \u001b[0;36mforward_pass\u001b[0;34m(model, x, batch_dim, cache_forward_pass, device, mode, **kwargs)\u001b[0m\n\u001b[1;32m    294\u001b[0m \u001b[38;5;28;01mif\u001b[39;00m \u001b[38;5;28misinstance\u001b[39m(x, (\u001b[38;5;28mlist\u001b[39m, \u001b[38;5;28mtuple\u001b[39m)):\n\u001b[0;32m--> 295\u001b[0m     _ \u001b[38;5;241m=\u001b[39m \u001b[43mmodel\u001b[49m\u001b[43m(\u001b[49m\u001b[38;5;241;43m*\u001b[39;49m\u001b[43mx\u001b[49m\u001b[43m,\u001b[49m\u001b[43m \u001b[49m\u001b[38;5;241;43m*\u001b[39;49m\u001b[38;5;241;43m*\u001b[39;49m\u001b[43mkwargs\u001b[49m\u001b[43m)\u001b[49m\n\u001b[1;32m    296\u001b[0m \u001b[38;5;28;01melif\u001b[39;00m \u001b[38;5;28misinstance\u001b[39m(x, \u001b[38;5;28mdict\u001b[39m):\n",
      "File \u001b[0;32m~/code/python/minorproject/VENV/lib/python3.12/site-packages/torch/nn/modules/module.py:1739\u001b[0m, in \u001b[0;36mModule._wrapped_call_impl\u001b[0;34m(self, *args, **kwargs)\u001b[0m\n\u001b[1;32m   1738\u001b[0m \u001b[38;5;28;01melse\u001b[39;00m:\n\u001b[0;32m-> 1739\u001b[0m     \u001b[38;5;28;01mreturn\u001b[39;00m \u001b[38;5;28;43mself\u001b[39;49m\u001b[38;5;241;43m.\u001b[39;49m\u001b[43m_call_impl\u001b[49m\u001b[43m(\u001b[49m\u001b[38;5;241;43m*\u001b[39;49m\u001b[43margs\u001b[49m\u001b[43m,\u001b[49m\u001b[43m \u001b[49m\u001b[38;5;241;43m*\u001b[39;49m\u001b[38;5;241;43m*\u001b[39;49m\u001b[43mkwargs\u001b[49m\u001b[43m)\u001b[49m\n",
      "File \u001b[0;32m~/code/python/minorproject/VENV/lib/python3.12/site-packages/torch/nn/modules/module.py:1845\u001b[0m, in \u001b[0;36mModule._call_impl\u001b[0;34m(self, *args, **kwargs)\u001b[0m\n\u001b[1;32m   1844\u001b[0m \u001b[38;5;28;01mtry\u001b[39;00m:\n\u001b[0;32m-> 1845\u001b[0m     \u001b[38;5;28;01mreturn\u001b[39;00m \u001b[43minner\u001b[49m\u001b[43m(\u001b[49m\u001b[43m)\u001b[49m\n\u001b[1;32m   1846\u001b[0m \u001b[38;5;28;01mexcept\u001b[39;00m \u001b[38;5;167;01mException\u001b[39;00m:\n\u001b[1;32m   1847\u001b[0m     \u001b[38;5;66;03m# run always called hooks if they have not already been run\u001b[39;00m\n\u001b[1;32m   1848\u001b[0m     \u001b[38;5;66;03m# For now only forward hooks have the always_call option but perhaps\u001b[39;00m\n\u001b[1;32m   1849\u001b[0m     \u001b[38;5;66;03m# this functionality should be added to full backward hooks as well.\u001b[39;00m\n",
      "File \u001b[0;32m~/code/python/minorproject/VENV/lib/python3.12/site-packages/torch/nn/modules/module.py:1793\u001b[0m, in \u001b[0;36mModule._call_impl.<locals>.inner\u001b[0;34m()\u001b[0m\n\u001b[1;32m   1791\u001b[0m     args \u001b[38;5;241m=\u001b[39m bw_hook\u001b[38;5;241m.\u001b[39msetup_input_hook(args)\n\u001b[0;32m-> 1793\u001b[0m result \u001b[38;5;241m=\u001b[39m \u001b[43mforward_call\u001b[49m\u001b[43m(\u001b[49m\u001b[38;5;241;43m*\u001b[39;49m\u001b[43margs\u001b[49m\u001b[43m,\u001b[49m\u001b[43m \u001b[49m\u001b[38;5;241;43m*\u001b[39;49m\u001b[38;5;241;43m*\u001b[39;49m\u001b[43mkwargs\u001b[49m\u001b[43m)\u001b[49m\n\u001b[1;32m   1794\u001b[0m \u001b[38;5;28;01mif\u001b[39;00m _global_forward_hooks \u001b[38;5;129;01mor\u001b[39;00m \u001b[38;5;28mself\u001b[39m\u001b[38;5;241m.\u001b[39m_forward_hooks:\n",
      "Cell \u001b[0;32mIn[48], line 23\u001b[0m, in \u001b[0;36mLSTMModel.forward\u001b[0;34m(self, x)\u001b[0m\n\u001b[1;32m     21\u001b[0m x, _ \u001b[38;5;241m=\u001b[39m \u001b[38;5;28mself\u001b[39m\u001b[38;5;241m.\u001b[39mlstm2(x)\n\u001b[0;32m---> 23\u001b[0m x \u001b[38;5;241m=\u001b[39m \u001b[43mx\u001b[49m\u001b[43m[\u001b[49m\u001b[43m:\u001b[49m\u001b[43m,\u001b[49m\u001b[43m \u001b[49m\u001b[38;5;241;43m-\u001b[39;49m\u001b[38;5;241;43m1\u001b[39;49m\u001b[43m,\u001b[49m\u001b[43m \u001b[49m\u001b[43m:\u001b[49m\u001b[43m]\u001b[49m\n\u001b[1;32m     25\u001b[0m x \u001b[38;5;241m=\u001b[39m F\u001b[38;5;241m.\u001b[39mrelu(\u001b[38;5;28mself\u001b[39m\u001b[38;5;241m.\u001b[39mfc1(x))\n",
      "\u001b[0;31mIndexError\u001b[0m: too many indices for tensor of dimension 2",
      "\nThe above exception was the direct cause of the following exception:\n",
      "\u001b[0;31mRuntimeError\u001b[0m                              Traceback (most recent call last)",
      "Cell \u001b[0;32mIn[48], line 33\u001b[0m\n\u001b[1;32m     31\u001b[0m n_features \u001b[38;5;241m=\u001b[39m \u001b[38;5;241m1\u001b[39m  \u001b[38;5;66;03m# The feature size, assuming 1 feature (e.g., 'High' column from your data)\u001b[39;00m\n\u001b[1;32m     32\u001b[0m model \u001b[38;5;241m=\u001b[39m LSTMModel(size, n_features)\n\u001b[0;32m---> 33\u001b[0m \u001b[43msummary\u001b[49m\u001b[43m(\u001b[49m\u001b[43mmodel\u001b[49m\u001b[43m,\u001b[49m\u001b[43m \u001b[49m\u001b[43minput_size\u001b[49m\u001b[38;5;241;43m=\u001b[39;49m\u001b[43m(\u001b[49m\u001b[43msize\u001b[49m\u001b[43m,\u001b[49m\u001b[43m \u001b[49m\u001b[43mn_features\u001b[49m\u001b[43m)\u001b[49m\u001b[43m)\u001b[49m\n",
      "File \u001b[0;32m~/code/python/minorproject/VENV/lib/python3.12/site-packages/torchinfo/torchinfo.py:223\u001b[0m, in \u001b[0;36msummary\u001b[0;34m(model, input_size, input_data, batch_dim, cache_forward_pass, col_names, col_width, depth, device, dtypes, mode, row_settings, verbose, **kwargs)\u001b[0m\n\u001b[1;32m    216\u001b[0m validate_user_params(\n\u001b[1;32m    217\u001b[0m     input_data, input_size, columns, col_width, device, dtypes, verbose\n\u001b[1;32m    218\u001b[0m )\n\u001b[1;32m    220\u001b[0m x, correct_input_size \u001b[38;5;241m=\u001b[39m process_input(\n\u001b[1;32m    221\u001b[0m     input_data, input_size, batch_dim, device, dtypes\n\u001b[1;32m    222\u001b[0m )\n\u001b[0;32m--> 223\u001b[0m summary_list \u001b[38;5;241m=\u001b[39m \u001b[43mforward_pass\u001b[49m\u001b[43m(\u001b[49m\n\u001b[1;32m    224\u001b[0m \u001b[43m    \u001b[49m\u001b[43mmodel\u001b[49m\u001b[43m,\u001b[49m\u001b[43m \u001b[49m\u001b[43mx\u001b[49m\u001b[43m,\u001b[49m\u001b[43m \u001b[49m\u001b[43mbatch_dim\u001b[49m\u001b[43m,\u001b[49m\u001b[43m \u001b[49m\u001b[43mcache_forward_pass\u001b[49m\u001b[43m,\u001b[49m\u001b[43m \u001b[49m\u001b[43mdevice\u001b[49m\u001b[43m,\u001b[49m\u001b[43m \u001b[49m\u001b[43mmodel_mode\u001b[49m\u001b[43m,\u001b[49m\u001b[43m \u001b[49m\u001b[38;5;241;43m*\u001b[39;49m\u001b[38;5;241;43m*\u001b[39;49m\u001b[43mkwargs\u001b[49m\n\u001b[1;32m    225\u001b[0m \u001b[43m\u001b[49m\u001b[43m)\u001b[49m\n\u001b[1;32m    226\u001b[0m formatting \u001b[38;5;241m=\u001b[39m FormattingOptions(depth, verbose, columns, col_width, rows)\n\u001b[1;32m    227\u001b[0m results \u001b[38;5;241m=\u001b[39m ModelStatistics(\n\u001b[1;32m    228\u001b[0m     summary_list, correct_input_size, get_total_memory_used(x), formatting\n\u001b[1;32m    229\u001b[0m )\n",
      "File \u001b[0;32m~/code/python/minorproject/VENV/lib/python3.12/site-packages/torchinfo/torchinfo.py:304\u001b[0m, in \u001b[0;36mforward_pass\u001b[0;34m(model, x, batch_dim, cache_forward_pass, device, mode, **kwargs)\u001b[0m\n\u001b[1;32m    302\u001b[0m \u001b[38;5;28;01mexcept\u001b[39;00m \u001b[38;5;167;01mException\u001b[39;00m \u001b[38;5;28;01mas\u001b[39;00m e:\n\u001b[1;32m    303\u001b[0m     executed_layers \u001b[38;5;241m=\u001b[39m [layer \u001b[38;5;28;01mfor\u001b[39;00m layer \u001b[38;5;129;01min\u001b[39;00m summary_list \u001b[38;5;28;01mif\u001b[39;00m layer\u001b[38;5;241m.\u001b[39mexecuted]\n\u001b[0;32m--> 304\u001b[0m     \u001b[38;5;28;01mraise\u001b[39;00m \u001b[38;5;167;01mRuntimeError\u001b[39;00m(\n\u001b[1;32m    305\u001b[0m         \u001b[38;5;124m\"\u001b[39m\u001b[38;5;124mFailed to run torchinfo. See above stack traces for more details. \u001b[39m\u001b[38;5;124m\"\u001b[39m\n\u001b[1;32m    306\u001b[0m         \u001b[38;5;124mf\u001b[39m\u001b[38;5;124m\"\u001b[39m\u001b[38;5;124mExecuted layers up to: \u001b[39m\u001b[38;5;132;01m{\u001b[39;00mexecuted_layers\u001b[38;5;132;01m}\u001b[39;00m\u001b[38;5;124m\"\u001b[39m\n\u001b[1;32m    307\u001b[0m     ) \u001b[38;5;28;01mfrom\u001b[39;00m\u001b[38;5;250m \u001b[39m\u001b[38;5;21;01me\u001b[39;00m\n\u001b[1;32m    308\u001b[0m \u001b[38;5;28;01mfinally\u001b[39;00m:\n\u001b[1;32m    309\u001b[0m     \u001b[38;5;28;01mif\u001b[39;00m hooks:\n",
      "\u001b[0;31mRuntimeError\u001b[0m: Failed to run torchinfo. See above stack traces for more details. Executed layers up to: [LSTM: 1, LSTM: 1]"
     ]
    }
   ],
   "source": [
    "import torch\n",
    "import torch.nn as nn\n",
    "import torch.nn.functional as F\n",
    "from torchinfo import summary\n",
    "\n",
    "class LSTMModel(nn.Module):\n",
    "    def __init__(self, size, n_features):\n",
    "        super(LSTMModel, self).__init__()\n",
    "        \n",
    "        self.lstm1 = nn.LSTM(input_size=n_features, hidden_size=10, batch_first=True)\n",
    "        \n",
    "        self.lstm2 = nn.LSTM(input_size=10, hidden_size=10, batch_first=True)\n",
    "        \n",
    "        self.fc1 = nn.Linear(10, 5)\n",
    "        \n",
    "        self.fc2 = nn.Linear(5, 1)\n",
    "\n",
    "    def forward(self, x):\n",
    "        x, _ = self.lstm1(x)\n",
    "        \n",
    "        x, _ = self.lstm2(x)\n",
    "        \n",
    "        x = x[:, -1, :]\n",
    "        \n",
    "        x = F.relu(self.fc1(x))\n",
    "        \n",
    "        x = self.fc2(x)\n",
    "        \n",
    "        return x\n",
    "number_of_steps = 60  # As per your data\n",
    "n_features = 1  # The feature size, assuming 1 feature (e.g., 'High' column from your data)\n",
    "model = LSTMModel(size, n_features)\n",
    "summary(model, input_size=(size, n_features))\n"
   ]
  },
  {
   "cell_type": "code",
   "execution_count": 124,
   "metadata": {},
   "outputs": [],
   "source": [
    "model = LSTMModel(size, n_features)"
   ]
  },
  {
   "cell_type": "code",
   "execution_count": 126,
   "metadata": {},
   "outputs": [
    {
     "ename": "AttributeError",
     "evalue": "'tuple' object has no attribute 'size'",
     "output_type": "error",
     "traceback": [
      "\u001b[0;31m---------------------------------------------------------------------------\u001b[0m",
      "\u001b[0;31mAttributeError\u001b[0m                            Traceback (most recent call last)",
      "Cell \u001b[0;32mIn[126], line 2\u001b[0m\n\u001b[1;32m      1\u001b[0m \u001b[38;5;28;01mfrom\u001b[39;00m\u001b[38;5;250m \u001b[39m\u001b[38;5;21;01mtorchsummary\u001b[39;00m\u001b[38;5;250m \u001b[39m\u001b[38;5;28;01mimport\u001b[39;00m summary\n\u001b[0;32m----> 2\u001b[0m \u001b[43msummary\u001b[49m\u001b[43m(\u001b[49m\u001b[43mmodel\u001b[49m\u001b[43m,\u001b[49m\u001b[43m \u001b[49m\u001b[43minput_size\u001b[49m\u001b[38;5;241;43m=\u001b[39;49m\u001b[43m(\u001b[49m\u001b[38;5;241;43m60\u001b[39;49m\u001b[43m,\u001b[49m\u001b[43m \u001b[49m\u001b[38;5;241;43m1\u001b[39;49m\u001b[43m)\u001b[49m\u001b[43m)\u001b[49m\n",
      "File \u001b[0;32m~/code/python/minorproject/VENV/lib/python3.12/site-packages/torchsummary/torchsummary.py:72\u001b[0m, in \u001b[0;36msummary\u001b[0;34m(model, input_size, batch_size, device)\u001b[0m\n\u001b[1;32m     68\u001b[0m model\u001b[38;5;241m.\u001b[39mapply(register_hook)\n\u001b[1;32m     70\u001b[0m \u001b[38;5;66;03m# make a forward pass\u001b[39;00m\n\u001b[1;32m     71\u001b[0m \u001b[38;5;66;03m# print(x.shape)\u001b[39;00m\n\u001b[0;32m---> 72\u001b[0m \u001b[43mmodel\u001b[49m\u001b[43m(\u001b[49m\u001b[38;5;241;43m*\u001b[39;49m\u001b[43mx\u001b[49m\u001b[43m)\u001b[49m\n\u001b[1;32m     74\u001b[0m \u001b[38;5;66;03m# remove these hooks\u001b[39;00m\n\u001b[1;32m     75\u001b[0m \u001b[38;5;28;01mfor\u001b[39;00m h \u001b[38;5;129;01min\u001b[39;00m hooks:\n",
      "File \u001b[0;32m~/code/python/minorproject/VENV/lib/python3.12/site-packages/torch/nn/modules/module.py:1739\u001b[0m, in \u001b[0;36mModule._wrapped_call_impl\u001b[0;34m(self, *args, **kwargs)\u001b[0m\n\u001b[1;32m   1737\u001b[0m     \u001b[38;5;28;01mreturn\u001b[39;00m \u001b[38;5;28mself\u001b[39m\u001b[38;5;241m.\u001b[39m_compiled_call_impl(\u001b[38;5;241m*\u001b[39margs, \u001b[38;5;241m*\u001b[39m\u001b[38;5;241m*\u001b[39mkwargs)  \u001b[38;5;66;03m# type: ignore[misc]\u001b[39;00m\n\u001b[1;32m   1738\u001b[0m \u001b[38;5;28;01melse\u001b[39;00m:\n\u001b[0;32m-> 1739\u001b[0m     \u001b[38;5;28;01mreturn\u001b[39;00m \u001b[38;5;28;43mself\u001b[39;49m\u001b[38;5;241;43m.\u001b[39;49m\u001b[43m_call_impl\u001b[49m\u001b[43m(\u001b[49m\u001b[38;5;241;43m*\u001b[39;49m\u001b[43margs\u001b[49m\u001b[43m,\u001b[49m\u001b[43m \u001b[49m\u001b[38;5;241;43m*\u001b[39;49m\u001b[38;5;241;43m*\u001b[39;49m\u001b[43mkwargs\u001b[49m\u001b[43m)\u001b[49m\n",
      "File \u001b[0;32m~/code/python/minorproject/VENV/lib/python3.12/site-packages/torch/nn/modules/module.py:1750\u001b[0m, in \u001b[0;36mModule._call_impl\u001b[0;34m(self, *args, **kwargs)\u001b[0m\n\u001b[1;32m   1745\u001b[0m \u001b[38;5;66;03m# If we don't have any hooks, we want to skip the rest of the logic in\u001b[39;00m\n\u001b[1;32m   1746\u001b[0m \u001b[38;5;66;03m# this function, and just call forward.\u001b[39;00m\n\u001b[1;32m   1747\u001b[0m \u001b[38;5;28;01mif\u001b[39;00m \u001b[38;5;129;01mnot\u001b[39;00m (\u001b[38;5;28mself\u001b[39m\u001b[38;5;241m.\u001b[39m_backward_hooks \u001b[38;5;129;01mor\u001b[39;00m \u001b[38;5;28mself\u001b[39m\u001b[38;5;241m.\u001b[39m_backward_pre_hooks \u001b[38;5;129;01mor\u001b[39;00m \u001b[38;5;28mself\u001b[39m\u001b[38;5;241m.\u001b[39m_forward_hooks \u001b[38;5;129;01mor\u001b[39;00m \u001b[38;5;28mself\u001b[39m\u001b[38;5;241m.\u001b[39m_forward_pre_hooks\n\u001b[1;32m   1748\u001b[0m         \u001b[38;5;129;01mor\u001b[39;00m _global_backward_pre_hooks \u001b[38;5;129;01mor\u001b[39;00m _global_backward_hooks\n\u001b[1;32m   1749\u001b[0m         \u001b[38;5;129;01mor\u001b[39;00m _global_forward_hooks \u001b[38;5;129;01mor\u001b[39;00m _global_forward_pre_hooks):\n\u001b[0;32m-> 1750\u001b[0m     \u001b[38;5;28;01mreturn\u001b[39;00m \u001b[43mforward_call\u001b[49m\u001b[43m(\u001b[49m\u001b[38;5;241;43m*\u001b[39;49m\u001b[43margs\u001b[49m\u001b[43m,\u001b[49m\u001b[43m \u001b[49m\u001b[38;5;241;43m*\u001b[39;49m\u001b[38;5;241;43m*\u001b[39;49m\u001b[43mkwargs\u001b[49m\u001b[43m)\u001b[49m\n\u001b[1;32m   1752\u001b[0m result \u001b[38;5;241m=\u001b[39m \u001b[38;5;28;01mNone\u001b[39;00m\n\u001b[1;32m   1753\u001b[0m called_always_called_hooks \u001b[38;5;241m=\u001b[39m \u001b[38;5;28mset\u001b[39m()\n",
      "Cell \u001b[0;32mIn[122], line 23\u001b[0m, in \u001b[0;36mLSTMModel.forward\u001b[0;34m(self, x)\u001b[0m\n\u001b[1;32m     21\u001b[0m \u001b[38;5;28;01mdef\u001b[39;00m\u001b[38;5;250m \u001b[39m\u001b[38;5;21mforward\u001b[39m(\u001b[38;5;28mself\u001b[39m, x):\n\u001b[1;32m     22\u001b[0m     \u001b[38;5;66;03m# First LSTM layer, return only output (not hidden state)\u001b[39;00m\n\u001b[0;32m---> 23\u001b[0m     x, _ \u001b[38;5;241m=\u001b[39m \u001b[38;5;28;43mself\u001b[39;49m\u001b[38;5;241;43m.\u001b[39;49m\u001b[43mlstm1\u001b[49m\u001b[43m(\u001b[49m\u001b[43mx\u001b[49m\u001b[43m)\u001b[49m\n\u001b[1;32m     25\u001b[0m     \u001b[38;5;66;03m# Second LSTM layer, return only output (not hidden state)\u001b[39;00m\n\u001b[1;32m     26\u001b[0m     x, _ \u001b[38;5;241m=\u001b[39m \u001b[38;5;28mself\u001b[39m\u001b[38;5;241m.\u001b[39mlstm2(x)\n",
      "File \u001b[0;32m~/code/python/minorproject/VENV/lib/python3.12/site-packages/torch/nn/modules/module.py:1739\u001b[0m, in \u001b[0;36mModule._wrapped_call_impl\u001b[0;34m(self, *args, **kwargs)\u001b[0m\n\u001b[1;32m   1737\u001b[0m     \u001b[38;5;28;01mreturn\u001b[39;00m \u001b[38;5;28mself\u001b[39m\u001b[38;5;241m.\u001b[39m_compiled_call_impl(\u001b[38;5;241m*\u001b[39margs, \u001b[38;5;241m*\u001b[39m\u001b[38;5;241m*\u001b[39mkwargs)  \u001b[38;5;66;03m# type: ignore[misc]\u001b[39;00m\n\u001b[1;32m   1738\u001b[0m \u001b[38;5;28;01melse\u001b[39;00m:\n\u001b[0;32m-> 1739\u001b[0m     \u001b[38;5;28;01mreturn\u001b[39;00m \u001b[38;5;28;43mself\u001b[39;49m\u001b[38;5;241;43m.\u001b[39;49m\u001b[43m_call_impl\u001b[49m\u001b[43m(\u001b[49m\u001b[38;5;241;43m*\u001b[39;49m\u001b[43margs\u001b[49m\u001b[43m,\u001b[49m\u001b[43m \u001b[49m\u001b[38;5;241;43m*\u001b[39;49m\u001b[38;5;241;43m*\u001b[39;49m\u001b[43mkwargs\u001b[49m\u001b[43m)\u001b[49m\n",
      "File \u001b[0;32m~/code/python/minorproject/VENV/lib/python3.12/site-packages/torch/nn/modules/module.py:1845\u001b[0m, in \u001b[0;36mModule._call_impl\u001b[0;34m(self, *args, **kwargs)\u001b[0m\n\u001b[1;32m   1842\u001b[0m     \u001b[38;5;28;01mreturn\u001b[39;00m inner()\n\u001b[1;32m   1844\u001b[0m \u001b[38;5;28;01mtry\u001b[39;00m:\n\u001b[0;32m-> 1845\u001b[0m     \u001b[38;5;28;01mreturn\u001b[39;00m \u001b[43minner\u001b[49m\u001b[43m(\u001b[49m\u001b[43m)\u001b[49m\n\u001b[1;32m   1846\u001b[0m \u001b[38;5;28;01mexcept\u001b[39;00m \u001b[38;5;167;01mException\u001b[39;00m:\n\u001b[1;32m   1847\u001b[0m     \u001b[38;5;66;03m# run always called hooks if they have not already been run\u001b[39;00m\n\u001b[1;32m   1848\u001b[0m     \u001b[38;5;66;03m# For now only forward hooks have the always_call option but perhaps\u001b[39;00m\n\u001b[1;32m   1849\u001b[0m     \u001b[38;5;66;03m# this functionality should be added to full backward hooks as well.\u001b[39;00m\n\u001b[1;32m   1850\u001b[0m     \u001b[38;5;28;01mfor\u001b[39;00m hook_id, hook \u001b[38;5;129;01min\u001b[39;00m _global_forward_hooks\u001b[38;5;241m.\u001b[39mitems():\n",
      "File \u001b[0;32m~/code/python/minorproject/VENV/lib/python3.12/site-packages/torch/nn/modules/module.py:1806\u001b[0m, in \u001b[0;36mModule._call_impl.<locals>.inner\u001b[0;34m()\u001b[0m\n\u001b[1;32m   1804\u001b[0m     hook_result \u001b[38;5;241m=\u001b[39m hook(\u001b[38;5;28mself\u001b[39m, args, kwargs, result)\n\u001b[1;32m   1805\u001b[0m \u001b[38;5;28;01melse\u001b[39;00m:\n\u001b[0;32m-> 1806\u001b[0m     hook_result \u001b[38;5;241m=\u001b[39m \u001b[43mhook\u001b[49m\u001b[43m(\u001b[49m\u001b[38;5;28;43mself\u001b[39;49m\u001b[43m,\u001b[49m\u001b[43m \u001b[49m\u001b[43margs\u001b[49m\u001b[43m,\u001b[49m\u001b[43m \u001b[49m\u001b[43mresult\u001b[49m\u001b[43m)\u001b[49m\n\u001b[1;32m   1808\u001b[0m \u001b[38;5;28;01mif\u001b[39;00m hook_result \u001b[38;5;129;01mis\u001b[39;00m \u001b[38;5;129;01mnot\u001b[39;00m \u001b[38;5;28;01mNone\u001b[39;00m:\n\u001b[1;32m   1809\u001b[0m     result \u001b[38;5;241m=\u001b[39m hook_result\n",
      "File \u001b[0;32m~/code/python/minorproject/VENV/lib/python3.12/site-packages/torchsummary/torchsummary.py:23\u001b[0m, in \u001b[0;36msummary.<locals>.register_hook.<locals>.hook\u001b[0;34m(module, input, output)\u001b[0m\n\u001b[1;32m     20\u001b[0m summary[m_key][\u001b[38;5;124m\"\u001b[39m\u001b[38;5;124minput_shape\u001b[39m\u001b[38;5;124m\"\u001b[39m][\u001b[38;5;241m0\u001b[39m] \u001b[38;5;241m=\u001b[39m batch_size\n\u001b[1;32m     21\u001b[0m \u001b[38;5;28;01mif\u001b[39;00m \u001b[38;5;28misinstance\u001b[39m(output, (\u001b[38;5;28mlist\u001b[39m, \u001b[38;5;28mtuple\u001b[39m)):\n\u001b[1;32m     22\u001b[0m     summary[m_key][\u001b[38;5;124m\"\u001b[39m\u001b[38;5;124moutput_shape\u001b[39m\u001b[38;5;124m\"\u001b[39m] \u001b[38;5;241m=\u001b[39m [\n\u001b[0;32m---> 23\u001b[0m         [\u001b[38;5;241m-\u001b[39m\u001b[38;5;241m1\u001b[39m] \u001b[38;5;241m+\u001b[39m \u001b[38;5;28mlist\u001b[39m(\u001b[43mo\u001b[49m\u001b[38;5;241;43m.\u001b[39;49m\u001b[43msize\u001b[49m())[\u001b[38;5;241m1\u001b[39m:] \u001b[38;5;28;01mfor\u001b[39;00m o \u001b[38;5;129;01min\u001b[39;00m output\n\u001b[1;32m     24\u001b[0m     ]\n\u001b[1;32m     25\u001b[0m \u001b[38;5;28;01melse\u001b[39;00m:\n\u001b[1;32m     26\u001b[0m     summary[m_key][\u001b[38;5;124m\"\u001b[39m\u001b[38;5;124moutput_shape\u001b[39m\u001b[38;5;124m\"\u001b[39m] \u001b[38;5;241m=\u001b[39m \u001b[38;5;28mlist\u001b[39m(output\u001b[38;5;241m.\u001b[39msize())\n",
      "\u001b[0;31mAttributeError\u001b[0m: 'tuple' object has no attribute 'size'"
     ]
    }
   ],
   "source": [
    "summary(model, input_size=(60, 1))"
   ]
  }
 ],
 "metadata": {
  "kernelspec": {
   "display_name": "VENV",
   "language": "python",
   "name": "python3"
  },
  "language_info": {
   "codemirror_mode": {
    "name": "ipython",
    "version": 3
   },
   "file_extension": ".py",
   "mimetype": "text/x-python",
   "name": "python",
   "nbconvert_exporter": "python",
   "pygments_lexer": "ipython3",
   "version": "3.12.8"
  }
 },
 "nbformat": 4,
 "nbformat_minor": 2
}
