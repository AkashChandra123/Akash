{
 "cells": [
  {
   "cell_type": "code",
   "execution_count": 2,
   "metadata": {},
   "outputs": [],
   "source": [
    "import pandas as pd"
   ]
  },
  {
   "cell_type": "markdown",
   "metadata": {},
   "source": [
    "### Resample subset"
   ]
  },
  {
   "cell_type": "code",
   "execution_count": 3,
   "metadata": {},
   "outputs": [
    {
     "name": "stdout",
     "output_type": "stream",
     "text": [
      "             Datetime  Global_active_power  Global_reactive_power   Voltage  \\\n",
      "0 2006-12-16 17:00:00              152.024                  8.244   8447.18   \n",
      "1 2006-12-16 18:00:00              217.932                  4.802  14074.81   \n",
      "2 2006-12-16 19:00:00              204.014                  5.114  13993.95   \n",
      "3 2006-12-16 20:00:00              196.114                  4.506  14044.29   \n",
      "4 2006-12-16 21:00:00              183.388                  4.600  14229.52   \n",
      "\n",
      "   Global_intensity  Sub_metering_1  Sub_metering_2  Sub_metering_3  \n",
      "0             651.6             0.0            19.0           607.0  \n",
      "1             936.0             0.0           403.0          1012.0  \n",
      "2             870.2             0.0            86.0          1001.0  \n",
      "3             835.0             0.0             0.0          1007.0  \n",
      "4             782.8             0.0            25.0          1033.0  \n"
     ]
    }
   ],
   "source": [
    "# Load your dataset (make sure the file path is correct)\n",
    "file_path = './data/subset_dataset.csv'\n",
    "df = pd.read_csv(file_path)\n",
    "\n",
    "# Ensure the 'Datetime' column is in datetime format\n",
    "df['Datetime'] = pd.to_datetime(df['Datetime'])\n",
    "\n",
    "# Set 'Datetime' as the index for resampling\n",
    "df.set_index('Datetime', inplace=True)\n",
    "\n",
    "# Resample the data to hourly frequency and sum the power consumption variables\n",
    "df_hourly = df.resample('h').sum()\n",
    "\n",
    "# Reset the index to make 'Datetime' a regular column again\n",
    "df_hourly.reset_index(inplace=True)\n",
    "\n",
    "# View the first few rows of the resampled data\n",
    "print(df_hourly.head())\n",
    "df_hourly.to_csv('./data/subset_dataset_resampled.csv', index=False)"
   ]
  },
  {
   "cell_type": "markdown",
   "metadata": {},
   "source": [
    "### Resample full dataset"
   ]
  },
  {
   "cell_type": "code",
   "execution_count": 4,
   "metadata": {},
   "outputs": [
    {
     "name": "stdout",
     "output_type": "stream",
     "text": [
      "             Datetime  Global_active_power  Global_reactive_power   Voltage  \\\n",
      "0 2006-12-16 17:00:00              152.024                  8.244   8447.18   \n",
      "1 2006-12-16 18:00:00              217.932                  4.802  14074.81   \n",
      "2 2006-12-16 19:00:00              204.014                  5.114  13993.95   \n",
      "3 2006-12-16 20:00:00              196.114                  4.506  14044.29   \n",
      "4 2006-12-16 21:00:00              183.388                  4.600  14229.52   \n",
      "\n",
      "   Global_intensity  Sub_metering_1  Sub_metering_2  Sub_metering_3  \n",
      "0             651.6             0.0            19.0           607.0  \n",
      "1             936.0             0.0           403.0          1012.0  \n",
      "2             870.2             0.0            86.0          1001.0  \n",
      "3             835.0             0.0             0.0          1007.0  \n",
      "4             782.8             0.0            25.0          1033.0  \n"
     ]
    }
   ],
   "source": [
    "# Load your dataset (make sure the file path is correct)\n",
    "file_path = './data/dataset.csv'\n",
    "df = pd.read_csv(file_path)\n",
    "\n",
    "# Ensure the 'Datetime' column is in datetime format\n",
    "df['Datetime'] = pd.to_datetime(df['Datetime'])\n",
    "\n",
    "# Set 'Datetime' as the index for resampling\n",
    "df.set_index('Datetime', inplace=True)\n",
    "\n",
    "# Resample the data to hourly frequency and sum the power consumption variables\n",
    "df_hourly = df.resample('h').sum()\n",
    "\n",
    "# Reset the index to make 'Datetime' a regular column again\n",
    "df_hourly.reset_index(inplace=True)\n",
    "\n",
    "# View the first few rows of the resampled data\n",
    "print(df_hourly.head())\n",
    "df_hourly.to_csv('./data/dataset_resampled.csv', index=False)"
   ]
  }
 ],
 "metadata": {
  "kernelspec": {
   "display_name": "VENV",
   "language": "python",
   "name": "python3"
  },
  "language_info": {
   "codemirror_mode": {
    "name": "ipython",
    "version": 3
   },
   "file_extension": ".py",
   "mimetype": "text/x-python",
   "name": "python",
   "nbconvert_exporter": "python",
   "pygments_lexer": "ipython3",
   "version": "3.12.8"
  }
 },
 "nbformat": 4,
 "nbformat_minor": 2
}
